{
  "nbformat": 4,
  "nbformat_minor": 0,
  "metadata": {
    "colab": {
      "provenance": []
    },
    "kernelspec": {
      "name": "python3",
      "display_name": "Python 3"
    },
    "language_info": {
      "name": "python"
    }
  },
  "cells": [
    {
      "cell_type": "code",
      "execution_count": 5,
      "metadata": {
        "colab": {
          "base_uri": "https://localhost:8080/"
        },
        "id": "n9rv59YnQ7sb",
        "outputId": "47955735-d640-4953-928e-ec6ca2b69a66"
      },
      "outputs": [
        {
          "output_type": "stream",
          "name": "stdout",
          "text": [
            "Rocky is eating.\n",
            "Rocky is sleeping.\n",
            "Rocky is barking.\n",
            "kitty is eating.\n",
            "kitty is sleeping.\n",
            "kitty is meowing.\n"
          ]
        }
      ],
      "source": [
        "# base class\n",
        "class Animal:\n",
        "    def __init__(self, name):\n",
        "        self.name = name\n",
        "\n",
        "    def eat(self):\n",
        "        print(f\"{self.name} is eating.\")\n",
        "\n",
        "    def sleep(self):\n",
        "        print(f\"{self.name} is sleeping.\")\n",
        "\n",
        "# derived class Dog\n",
        "class Dog(Animal):\n",
        "    def bark(self):\n",
        "        print(f\"{self.name} is barking.\")\n",
        "\n",
        "# derived class Cat\n",
        "class Cat(Animal):\n",
        "    def meow(self):\n",
        "        print(f\"{self.name} is meowing.\")\n",
        "\n",
        "# instances of Dog and Cat\n",
        "dog = Dog(\"Rocky\")\n",
        "cat = Cat(\"kitty\")\n",
        "\n",
        "# calling methods\n",
        "dog.eat()\n",
        "dog.sleep()\n",
        "dog.bark()\n",
        "\n",
        "cat.eat()\n",
        "cat.sleep()\n",
        "cat.meow()"
      ]
    }
  ]
}